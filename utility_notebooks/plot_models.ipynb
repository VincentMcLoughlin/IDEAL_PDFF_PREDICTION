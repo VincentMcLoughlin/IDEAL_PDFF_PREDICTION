{
 "cells": [
  {
   "cell_type": "code",
   "execution_count": null,
   "metadata": {},
   "outputs": [],
   "source": [
    "import pandas as pd \n",
    "small_resnet_df = pd.read_csv(\"logging/small_resnet/bs=32_dataset=full_ideal_firstNeurons=64_augmented.csv\")\n",
    "small_no_dropout_df = pd.read_csv(\"logging/small_resnet/bs=64_dataset=full_ideal_firstNeurons=64_augmented__no_dropout.csv\")\n",
    "resnet50_df = pd.read_csv(\"logging/resnet50/bs=32_dataset=full_ideal_firstNeurons=64_augmented.csv\")\n",
    "transfer_df = pd.read_csv(\"logging/resnet50_pretrained/bs=32_dataset=full_ideal_firstNeurons=transfer_learn.csv\")"
   ]
  },
  {
   "cell_type": "code",
   "execution_count": null,
   "metadata": {},
   "outputs": [],
   "source": [
    "def get_max_values(input_df):\n",
    "    min_idx = input_df[\"val_mean_absolute_error\"].idxmin()\n",
    "    print(min_idx+1)\n",
    "    print(input_df.loc[min_idx])\n",
    "\n",
    "\n",
    "    min_idx = input_df[\"val_mean_absolute_percentage_error\"].idxmin()\n",
    "    print(min_idx+1)\n",
    "    print(input_df.loc[min_idx])\n",
    "\n",
    "    max_idx = input_df[\"val_r_squared\"].idxmax()\n",
    "    print(max_idx+1)\n",
    "    print(input_df.loc[max_idx])"
   ]
  },
  {
   "cell_type": "code",
   "execution_count": null,
   "metadata": {},
   "outputs": [],
   "source": [
    "get_max_values(small_resnet_df)"
   ]
  },
  {
   "cell_type": "code",
   "execution_count": null,
   "metadata": {},
   "outputs": [],
   "source": [
    "get_max_values(resnet50_df)"
   ]
  },
  {
   "cell_type": "code",
   "execution_count": null,
   "metadata": {},
   "outputs": [],
   "source": [
    "get_max_values(transfer_df)"
   ]
  },
  {
   "cell_type": "code",
   "execution_count": null,
   "metadata": {},
   "outputs": [],
   "source": [
    "import matplotlib.pyplot as plt  \n",
    "\n",
    "\n",
    "def plot_loss(data_df, loss_path, percent_path):\n",
    "    epochs = data_df[\"epoch\"]\n",
    "    mean_absolute_error = data_df[\"mean_absolute_error\"]\n",
    "    mean_absolute_percentage_error = data_df[\"mean_absolute_percentage_error\"]\n",
    "    val_mean_absolute_error = data_df[\"val_mean_absolute_error\"]\n",
    "    val_mean_absolute_percentage_error = data_df[\"val_mean_absolute_percentage_error\"]\n",
    "    \n",
    "    plt.plot(epochs, mean_absolute_error, val_mean_absolute_error)\n",
    "    plt.xlabel('epochs')\n",
    "    plt.ylabel('Loss (Mean Absolute Error) (PDFF)')\n",
    "    plt.ylim(top=2.6)\n",
    "    plt.title('Loss vs Epochs')    \n",
    "    plt.legend(['train loss', 'validation loss'])\n",
    "    plt.savefig(loss_path)\n",
    "    plt.show()    \n",
    "    plt.plot(epochs, mean_absolute_percentage_error, val_mean_absolute_percentage_error, label=['train MAPE, validation MAPE'])\n",
    "    plt.xlabel('epochs')\n",
    "    plt.ylabel('Mean Absolute Percentage Error (%)')\n",
    "    plt.ylim(top=50)\n",
    "    plt.title('Mean Absolute Percentage Error vs Epochs')\n",
    "    plt.legend(['train % error', 'validation % error'])\n",
    "    plt.savefig(percent_path)\n",
    "    plt.show()\n",
    "    "
   ]
  },
  {
   "cell_type": "code",
   "execution_count": null,
   "metadata": {},
   "outputs": [],
   "source": [
    "plot_loss(small_resnet_df, loss_path = \"plots/small_resnet_bs_32_loss.png\", percent_path = \"plots/small_resnet_bs_32_percent.png\")"
   ]
  },
  {
   "cell_type": "code",
   "execution_count": null,
   "metadata": {},
   "outputs": [],
   "source": [
    "plot_loss(small_no_dropout_df, loss_path=\"plots/resnet20_bs_64_no_drop_loss.png\",percent_path=\"plots/resnet20_bs_64_no_drop_percent.png\" )"
   ]
  },
  {
   "cell_type": "code",
   "execution_count": null,
   "metadata": {},
   "outputs": [],
   "source": [
    "plot_loss(resnet50_df, loss_path=\"plots/resnet50_bs_64_loss.png\", percent_path=\"plots/resnet50_bs_64_percent.png\")"
   ]
  },
  {
   "cell_type": "code",
   "execution_count": null,
   "metadata": {},
   "outputs": [],
   "source": [
    "plot_loss(transfer_df, loss_path=\"plots/transfer_bs_32_loss.png\", percent_path=\"plots/transfer_bs_32_percent.png\")"
   ]
  },
  {
   "cell_type": "markdown",
   "metadata": {},
   "source": [
    "# Extract info from logs"
   ]
  },
  {
   "cell_type": "code",
   "execution_count": null,
   "metadata": {},
   "outputs": [],
   "source": [
    "with open(\"slurm-2007264.out\") as file:\n",
    "    lines = [line.rstrip() for line in file]\n",
    "len(lines)"
   ]
  },
  {
   "cell_type": "code",
   "execution_count": null,
   "metadata": {},
   "outputs": [],
   "source": [
    "\n",
    "line = lines[0]\n",
    "i = 0\n",
    "log_indices = []\n",
    "for line in lines:\n",
    "\n",
    "    if \"Epoch\" in line:\n",
    "        log_indices.append(i-1)\n",
    "    i += 1\n",
    "log_indices.pop(0)\n",
    "print(len(log_indices))"
   ]
  },
  {
   "cell_type": "code",
   "execution_count": null,
   "metadata": {},
   "outputs": [],
   "source": [
    "metric_names = [\"epoch\",\"loss\",\"lr\",\"mean_absolute_error\",\"mean_absolute_percentage_error\",\"r_squared\",\"val_loss\",\"val_mean_absolute_error\",\"val_mean_absolute_percentage_error\",\"val_r_squared\"]\n",
    "log_df = pd.DataFrame(columns=metric_names)\n",
    "\n",
    "log_metric_names = [\"loss\", \"mean_absolute_error\", \"mean_absolute_error\", \"mean_absolute_percentage_error\", \"r_squared\", \"val_loss\", \"val_mean_absolute_error\", \"val_mean_absolute_percentage_error\", \"val_r_squared\", \"lr\"]\n",
    "line_dict = dict()\n",
    "\n",
    "epoch = 1\n",
    "\n",
    "for index in log_indices:\n",
    "    line = lines[index]\n",
    "\n",
    "    if epoch > 17:\n",
    "        log_metric_names = [\"loss\", \"mean_absolute_error\", \"mean_absolute_error\", \"mean_absolute_percentage_error\", \"r_squared_1\", \"val_loss\", \"val_mean_absolute_error\", \"val_mean_absolute_percentage_error\", \"val_r_squared_1\"]\n",
    "\n",
    "    for j in range(0, len(log_metric_names)): #Handle                 \n",
    "\n",
    "        start_metric_name = log_metric_names[j] + \": \"\n",
    "        start_index = line.find(start_metric_name) + len(start_metric_name)\n",
    "        if j == len(log_metric_names) - 1:\n",
    "            end_index = len(line)\n",
    "        else:\n",
    "            end_metric_name = \"- \" + log_metric_names[j+1]    \n",
    "            end_index =  line.find(end_metric_name)\n",
    "\n",
    "        metric_val = line[start_index : end_index]    \n",
    "        metric_key = log_metric_names[j]\n",
    "        if metric_key[-2:] == \"_1\":\n",
    "            metric_key = metric_key[:-2]\n",
    "        \n",
    "        line_dict[metric_key] = metric_val\n",
    "        line_dict[\"epoch\"] = epoch\n",
    "    \n",
    "    line_df = pd.DataFrame(line_dict, index=[0])\n",
    "    log_df = pd.concat([log_df, line_df])\n",
    "\n",
    "    epoch += 1\n",
    "\n",
    "log_df.loc[((log_df[\"epoch\"] >= 40) & (log_df[\"epoch\"] < 65)), 'lr'] = 0.00001\n",
    "log_df.loc[((log_df[\"epoch\"] >= 65) & (log_df[\"epoch\"] < 75)), 'lr'] = 0.000001\n",
    "\n",
    "log_df.head()"
   ]
  },
  {
   "cell_type": "code",
   "execution_count": null,
   "metadata": {},
   "outputs": [],
   "source": [
    "log_df.to_csv(\"logging/resnet50_pretrained/bs=32_dataset=full_ideal_firstNeurons=transfer_learn.csv\")"
   ]
  }
 ],
 "metadata": {
  "kernelspec": {
   "display_name": "Python 3",
   "language": "python",
   "name": "python3"
  },
  "language_info": {
   "codemirror_mode": {
    "name": "ipython",
    "version": 3
   },
   "file_extension": ".py",
   "mimetype": "text/x-python",
   "name": "python",
   "nbconvert_exporter": "python",
   "pygments_lexer": "ipython3",
   "version": "3.9.2"
  }
 },
 "nbformat": 4,
 "nbformat_minor": 2
}
