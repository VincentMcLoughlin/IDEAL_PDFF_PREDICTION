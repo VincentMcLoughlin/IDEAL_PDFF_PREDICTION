{
 "cells": [
  {
   "cell_type": "code",
   "execution_count": null,
   "metadata": {},
   "outputs": [],
   "source": [
    "import pandas as pd \n",
    "from glob import glob\n",
    "\n",
    "#ideal_df = pd.read_csv(\"/home/mclougv/IDEAL_PDFF_prediction/reference_data/IDEAL_x20254_2_with_Path.csv\")\n",
    "ideal_df = pd.read_csv(\"/home/mclougv/IDEAL_PDFF_prediction/reference_data/IDEAL_X20254_2.csv\")\n",
    "\n",
    "print(ideal_df.shape)\n",
    "print(ideal_df.head())"
   ]
  },
  {
   "cell_type": "code",
   "execution_count": null,
   "metadata": {},
   "outputs": [],
   "source": [
    "file_list = glob(\"/genetics3/mclougv/LIVER_MRI/raw_data_field_20254/field_20254_2/*/*\")\n",
    "print(len(file_list))\n"
   ]
  },
  {
   "cell_type": "code",
   "execution_count": null,
   "metadata": {},
   "outputs": [],
   "source": [
    "import pandas as pd\n",
    "ideal_path_df = pd.read_csv(\"reference_data/IDEAL_x20254_2_with_Path.csv\")\n",
    "ideal_path_df.head()"
   ]
  },
  {
   "cell_type": "code",
   "execution_count": null,
   "metadata": {},
   "outputs": [],
   "source": [
    "ideal_path_df[\"eid_from_path\"] = pd.to_numeric(ideal_path_df[\"filename_from_path\"].str[:7])\n",
    "ideal_path_df[\"eid_from_filename\"] = pd.to_numeric(ideal_path_df[\"filename\"].str[:7])\n",
    "ideal_path_df.head()"
   ]
  },
  {
   "cell_type": "code",
   "execution_count": null,
   "metadata": {},
   "outputs": [],
   "source": [
    "ideal_path_df[ideal_path_df[\"eid_from_filename\"] != ideal_path_df[\"eid_from_path\"]]"
   ]
  },
  {
   "cell_type": "code",
   "execution_count": null,
   "metadata": {},
   "outputs": [],
   "source": [
    "ideal_path_clean_df = ideal_path_df[ideal_path_df[\"PDFF\"].notna()]\n",
    "print(ideal_path_clean_df.shape)"
   ]
  },
  {
   "cell_type": "code",
   "execution_count": null,
   "metadata": {},
   "outputs": [],
   "source": [
    "ideal_path_clean_df.to_csv(\"reference_data/IDEAL_x20254_2_with_Path_No_PDFF_Na.csv\")"
   ]
  },
  {
   "cell_type": "code",
   "execution_count": null,
   "metadata": {},
   "outputs": [],
   "source": [
    "#Count number of zip files\n",
    "\n",
    "import sys\n",
    "from contextlib import closing\n",
    "from zipfile import ZipFile\n",
    "\n",
    "def get_file_count_from_zip(zip_path):\n",
    "    with closing(ZipFile(zip_path)) as archive:\n",
    "        return len(archive.infolist())\n",
    "    \n",
    "expected_file_num = 73 #expect 72 dicom, (36 light, 36 dark), plus a txt file\n",
    "print(ideal_path_clean_df.shape)\n",
    "ideal_path_clean_df[\"num_files\"] = ideal_path_clean_df[\"full_path\"].map(get_file_count_from_zip) #25 minutes to run\n",
    "ideal_path_clean_df.head()"
   ]
  },
  {
   "cell_type": "code",
   "execution_count": null,
   "metadata": {},
   "outputs": [],
   "source": [
    "ideal_good_files_df =ideal_path_clean_df[ideal_path_clean_df[\"num_files\"] == expected_file_num]\n",
    "print(ideal_path_clean_df.shape)\n",
    "print(ideal_good_files_df.shape)"
   ]
  },
  {
   "cell_type": "code",
   "execution_count": null,
   "metadata": {},
   "outputs": [],
   "source": [
    "ideal_good_files_df.drop(columns=[\"Unnamed: 0.1\", \"Unnamed: 0\", \"X\"], inplace=True)\n",
    "print(ideal_good_files_df.shape)\n",
    "ideal_good_files_df"
   ]
  },
  {
   "cell_type": "code",
   "execution_count": null,
   "metadata": {},
   "outputs": [],
   "source": [
    "ideal_good_files_df.to_csv(\"reference_data/IDEAL_x20254_2_clean_with_path.csv\")"
   ]
  },
  {
   "cell_type": "code",
   "execution_count": null,
   "metadata": {},
   "outputs": [],
   "source": [
    "ideal_good_files_df[ideal_good_files_df[\"filename_from_path\"] == \"4491437_20254_2_0.zip\"]"
   ]
  },
  {
   "cell_type": "code",
   "execution_count": null,
   "metadata": {},
   "outputs": [],
   "source": []
  },
  {
   "cell_type": "code",
   "execution_count": null,
   "metadata": {},
   "outputs": [],
   "source": []
  },
  {
   "cell_type": "code",
   "execution_count": null,
   "metadata": {},
   "outputs": [],
   "source": [
    "import numpy as np\n",
    "from glob import glob\n",
    "files = glob(\"/genetics3/mclougv/IDEAL_x20254_dark_files/*\")\n",
    "len(files)"
   ]
  },
  {
   "cell_type": "code",
   "execution_count": null,
   "metadata": {},
   "outputs": [],
   "source": [
    "max_val = 0\n",
    "i = 0\n",
    "print(\"starting\")\n",
    "for file in files:\n",
    "    images = np.load(file)\n",
    "    img_max = images.max()\n",
    "    if img_max > max_val:\n",
    "        max_val = images.max()\n",
    "\n",
    "    if i%100 == 0:\n",
    "        print(f\"{i} {max_val}\")\n",
    "\n",
    "    i += 1"
   ]
  },
  {
   "cell_type": "code",
   "execution_count": null,
   "metadata": {},
   "outputs": [],
   "source": [
    "max_val = 375 \n",
    "#Between indices 29500 and 29600 in /genetics3/mclougv/IDEAL_x20254_dark_files/* "
   ]
  },
  {
   "cell_type": "code",
   "execution_count": null,
   "metadata": {},
   "outputs": [],
   "source": []
  }
 ],
 "metadata": {
  "kernelspec": {
   "display_name": "venv",
   "language": "python",
   "name": "python3"
  },
  "language_info": {
   "codemirror_mode": {
    "name": "ipython",
    "version": 3
   },
   "file_extension": ".py",
   "mimetype": "text/x-python",
   "name": "python",
   "nbconvert_exporter": "python",
   "pygments_lexer": "ipython3",
   "version": "3.9.2"
  },
  "orig_nbformat": 4
 },
 "nbformat": 4,
 "nbformat_minor": 2
}
