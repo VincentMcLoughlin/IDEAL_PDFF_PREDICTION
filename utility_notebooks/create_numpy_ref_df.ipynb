{
 "cells": [
  {
   "cell_type": "code",
   "execution_count": null,
   "metadata": {},
   "outputs": [],
   "source": [
    "import pandas as pd\n",
    "\n",
    "ref_df = pd.read_csv(\"reference_data/IDEAL_x20254_2_clean_w_extracted.csv\")\n",
    "print(ref_df.shape)\n",
    "ref_df.head()"
   ]
  },
  {
   "cell_type": "code",
   "execution_count": null,
   "metadata": {},
   "outputs": [],
   "source": [
    "from glob import glob \n",
    "\n",
    "dark_files = glob(\"/genetics3/mclougv/IDEAL_x20254_dark_files/*\")\n",
    "light_files = glob(\"/genetics3/mclougv/IDEAL_x20254_light_files/*\")\n",
    "print(len(dark_files))\n",
    "print(len(light_files))"
   ]
  },
  {
   "cell_type": "code",
   "execution_count": null,
   "metadata": {},
   "outputs": [],
   "source": [
    "ref_df[\"numpy_dark_paths\"] = dark_files\n",
    "ref_df[\"numpy_light_paths\"] = light_files"
   ]
  },
  {
   "cell_type": "code",
   "execution_count": null,
   "metadata": {},
   "outputs": [],
   "source": [
    "ref_df.head()"
   ]
  },
  {
   "cell_type": "code",
   "execution_count": null,
   "metadata": {},
   "outputs": [],
   "source": [
    "ref_df = ref_df.drop(columns=[\"Unnamed: 0.1\", \"Unnamed: 0\"])\n",
    "ref_df.head()"
   ]
  },
  {
   "cell_type": "code",
   "execution_count": null,
   "metadata": {},
   "outputs": [],
   "source": [
    "ref_df.to_csv(\"IDEAL_X20254_clean_extracted_w_numpy.csv\")"
   ]
  },
  {
   "cell_type": "code",
   "execution_count": null,
   "metadata": {},
   "outputs": [],
   "source": [
    "import pandas as pd\n",
    "ref_df = pd.read_csv(\"reference_data/IDEAL_X20254_clean_extracted_w_numpy.csv\")"
   ]
  },
  {
   "cell_type": "code",
   "execution_count": null,
   "metadata": {},
   "outputs": [],
   "source": [
    "import numpy as np\n",
    "mask = np.random.rand(ref_df.shape[0]) < 0.75\n",
    "train_df = ref_df[mask]\n",
    "test_df = ref_df[~mask]\n",
    "print(train_df.shape)\n",
    "print(test_df.shape)"
   ]
  },
  {
   "cell_type": "code",
   "execution_count": null,
   "metadata": {},
   "outputs": [],
   "source": []
  }
 ],
 "metadata": {
  "kernelspec": {
   "display_name": "venv",
   "language": "python",
   "name": "python3"
  },
  "language_info": {
   "codemirror_mode": {
    "name": "ipython",
    "version": 3
   },
   "file_extension": ".py",
   "mimetype": "text/x-python",
   "name": "python",
   "nbconvert_exporter": "python",
   "pygments_lexer": "ipython3",
   "version": "3.9.2"
  },
  "orig_nbformat": 4
 },
 "nbformat": 4,
 "nbformat_minor": 2
}
