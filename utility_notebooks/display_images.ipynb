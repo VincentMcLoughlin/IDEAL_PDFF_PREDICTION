{
 "cells": [
  {
   "cell_type": "code",
   "execution_count": null,
   "metadata": {},
   "outputs": [],
   "source": [
    "import pandas as pd\n",
    "import numpy as np\n",
    "import matplotlib.pyplot as plt\n",
    "\n",
    "ref_df = pd.read_csv(\"/home/mclougv/IDEAL_PDFF_prediction/training_data/IDEAL_X20254_clean_train.csv\")"
   ]
  },
  {
   "cell_type": "code",
   "execution_count": null,
   "metadata": {},
   "outputs": [],
   "source": [
    "import pandas as pd\n",
    "\n",
    "ref_df = pd.read_csv(\"training_data/IDEAL_X20254_clean_extracted_w_numpy.csv\")\n",
    "ref_df.shape"
   ]
  },
  {
   "cell_type": "code",
   "execution_count": null,
   "metadata": {},
   "outputs": [],
   "source": [
    "ref_df.head()"
   ]
  },
  {
   "cell_type": "code",
   "execution_count": null,
   "metadata": {},
   "outputs": [],
   "source": [
    "ref_df.sort_values(by=\"PDFF\",inplace=True, ascending=True)"
   ]
  },
  {
   "cell_type": "code",
   "execution_count": null,
   "metadata": {},
   "outputs": [],
   "source": [
    "import numpy as np \n",
    "import matplotlib.pyplot as plt\n",
    "\n",
    "def get_images(num_images, image_paths, slice_index = 0):\n",
    "    image_data = list()\n",
    "    index = 0\n",
    "    while index < 9:\n",
    "        numpy_file = image_paths[index]\n",
    "        np_array = np.load(numpy_file)\n",
    "    \n",
    "        image = np_array[:,:,slice_index]\n",
    "        image_data.append(image)\n",
    "        index += 1\n",
    "\n",
    "    return image_data\n",
    "\n",
    "def plot_3by3(image_data):\n",
    "    f, axarr = plt.subplots(3,3)\n",
    "    axarr[0,0].imshow(image_data[0], cmap='gray')\n",
    "    axarr[0,1].imshow(image_data[1], cmap='gray')\n",
    "    axarr[0,2].imshow(image_data[2], cmap='gray')\n",
    "    axarr[1,0].imshow(image_data[3], cmap='gray')\n",
    "    axarr[1,1].imshow(image_data[4], cmap='gray')\n",
    "    axarr[1,2].imshow(image_data[5], cmap='gray')\n",
    "    axarr[2,0].imshow(image_data[6], cmap='gray')\n",
    "    axarr[2,1].imshow(image_data[7], cmap='gray')\n",
    "    axarr[2,2].imshow(image_data[8], cmap='gray')\n",
    "\n"
   ]
  },
  {
   "cell_type": "code",
   "execution_count": null,
   "metadata": {},
   "outputs": [],
   "source": [
    "num_images = 9\n",
    "ref_df.sort_values(by=\"PDFF\",inplace=True, ascending=False)\n",
    "fat_paths = ref_df[\"numpy_dark_paths\"][:10].values\n",
    "fat_image_data = get_images(num_images, fat_paths)\n",
    "plot_3by3(fat_image_data)"
   ]
  },
  {
   "cell_type": "code",
   "execution_count": null,
   "metadata": {},
   "outputs": [],
   "source": [
    "num_images = 9\n",
    "paths = ref_df[\"numpy_dark_paths\"][-10:].values\n",
    "print(paths)\n",
    "thin_image_data = get_images(num_images, paths)\n",
    "plot_3by3(thin_image_data)"
   ]
  },
  {
   "cell_type": "code",
   "execution_count": null,
   "metadata": {},
   "outputs": [],
   "source": [
    "num_images = 9\n",
    "mid_index = int(ref_df.shape[0]/2) + 10\n",
    "med_paths = ref_df[\"numpy_dark_paths\"][mid_index: mid_index + num_images].values\n",
    "print(med_paths)\n",
    "median_image_data = get_images(num_images, med_paths, slice_index=0)\n",
    "plot_3by3(median_image_data)"
   ]
  },
  {
   "cell_type": "markdown",
   "metadata": {},
   "source": [
    "# Analyze data"
   ]
  },
  {
   "cell_type": "code",
   "execution_count": null,
   "metadata": {},
   "outputs": [],
   "source": [
    "import numpy as np\n",
    "import matplotlib.pyplot as plt\n",
    "def get_stats(pdff_values, output_name = \"tmp.png\"):\n",
    "    print(f\"Max: {pdff_values.max()}\")\n",
    "    print(f\"Min: {pdff_values.min()}\")\n",
    "    print(f\"Mean: {np.mean(pdff_values.mean())}\")\n",
    "    print(f\"Median: {np.median(pdff_values)}\")\n",
    "    print(f\"Stddev: {pdff_values.std()}\")\n",
    "    #plt.hist(pdff_values, bins = [0,5,10,15,20,25,30,35,40]) \n",
    "    plt.hist(pdff_values, bins=range(0,46))\n",
    "    plt.title(\"PDFF Score Histogram\")\n",
    "    plt.xlabel(\"PDFF Score\")\n",
    "    plt.ylabel(\"Entries\")\n",
    "    plt.savefig(\"images/PDFF_histogram.png\")\n"
   ]
  },
  {
   "cell_type": "code",
   "execution_count": null,
   "metadata": {},
   "outputs": [],
   "source": [
    "get_stats(ref_df[\"PDFF\"])"
   ]
  },
  {
   "cell_type": "code",
   "execution_count": null,
   "metadata": {},
   "outputs": [],
   "source": [
    "import pandas as pd\n",
    "test_df = pd.read_csv(\"/home/mclougv/IDEAL_PDFF_prediction/training_data/IDEAL_X20254_clean_val.csv\")\n",
    "get_stats(test_df[\"PDFF\"])"
   ]
  },
  {
   "cell_type": "code",
   "execution_count": null,
   "metadata": {},
   "outputs": [],
   "source": [
    "\n",
    "print(ref_df.shape)\n",
    "print(test_df.shape)"
   ]
  },
  {
   "cell_type": "markdown",
   "metadata": {},
   "source": [
    "# Plot Light and dark comparison"
   ]
  },
  {
   "cell_type": "code",
   "execution_count": null,
   "metadata": {},
   "outputs": [],
   "source": [
    "ref_df[\"numpy_dark_paths\"][:10].values\n",
    "id = 2709155\n",
    "darK_file = f\"/genetics3/mclougv/IDEAL_x20254_dark_files/{id}_dark.npy\"\n",
    "light_file = f\"/genetics3/mclougv/IDEAL_x20254_light_files/{id}_light.npy\"\n",
    "slice_index=14 # Pick at random\n",
    "\n",
    "dark_array = np.load(darK_file)\n",
    "light_array = np.load(light_file)\n",
    "dark_image = dark_array[:,:,slice_index]\n",
    "light_image = light_array[:,:,slice_index]"
   ]
  },
  {
   "cell_type": "code",
   "execution_count": null,
   "metadata": {},
   "outputs": [],
   "source": [
    "\n",
    "f, axarr = plt.subplots(1,2)\n",
    "\n",
    "axarr[0].imshow(dark_image, cmap='gray')\n",
    "axarr[0].axis('off')\n",
    "axarr[1].imshow(light_image, cmap='gray')\n",
    "axarr[1].axis('off')"
   ]
  },
  {
   "cell_type": "code",
   "execution_count": null,
   "metadata": {},
   "outputs": [],
   "source": [
    "f.savefig(f\"images/dark_light_comparison_{id}\")"
   ]
  },
  {
   "cell_type": "code",
   "execution_count": null,
   "metadata": {},
   "outputs": [],
   "source": []
  }
 ],
 "metadata": {
  "kernelspec": {
   "display_name": "Python 3",
   "language": "python",
   "name": "python3"
  },
  "language_info": {
   "codemirror_mode": {
    "name": "ipython",
    "version": 3
   },
   "file_extension": ".py",
   "mimetype": "text/x-python",
   "name": "python",
   "nbconvert_exporter": "python",
   "pygments_lexer": "ipython3",
   "version": "3.9.16"
  }
 },
 "nbformat": 4,
 "nbformat_minor": 2
}
