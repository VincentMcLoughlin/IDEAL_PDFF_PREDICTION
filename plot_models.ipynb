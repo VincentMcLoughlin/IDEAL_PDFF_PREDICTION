{
 "cells": [
  {
   "cell_type": "code",
   "execution_count": 1,
   "metadata": {},
   "outputs": [
    {
     "name": "stderr",
     "output_type": "stream",
     "text": [
      "2023-11-26 00:42:18.679481: W tensorflow/compiler/xla/stream_executor/platform/default/dso_loader.cc:64] Could not load dynamic library 'libcudart.so.11.0'; dlerror: libcudart.so.11.0: cannot open shared object file: No such file or directory; LD_LIBRARY_PATH: /lmod/packages/cudnn10.2/lib:/lmod/packages/python/3.9.2/lib/python3.9:/usr/local/cuda-10.2/lib64::\n",
      "2023-11-26 00:42:18.679534: I tensorflow/compiler/xla/stream_executor/cuda/cudart_stub.cc:29] Ignore above cudart dlerror if you do not have a GPU set up on your machine.\n",
      "2023-11-26 00:42:20.434446: W tensorflow/compiler/xla/stream_executor/platform/default/dso_loader.cc:64] Could not load dynamic library 'libnvinfer.so.7'; dlerror: libnvinfer.so.7: cannot open shared object file: No such file or directory; LD_LIBRARY_PATH: /lmod/packages/cudnn10.2/lib:/lmod/packages/python/3.9.2/lib/python3.9:/usr/local/cuda-10.2/lib64::\n",
      "2023-11-26 00:42:20.434686: W tensorflow/compiler/xla/stream_executor/platform/default/dso_loader.cc:64] Could not load dynamic library 'libnvinfer_plugin.so.7'; dlerror: libnvinfer_plugin.so.7: cannot open shared object file: No such file or directory; LD_LIBRARY_PATH: /lmod/packages/cudnn10.2/lib:/lmod/packages/python/3.9.2/lib/python3.9:/usr/local/cuda-10.2/lib64::\n",
      "2023-11-26 00:42:20.434717: W tensorflow/compiler/tf2tensorrt/utils/py_utils.cc:38] TF-TRT Warning: Cannot dlopen some TensorRT libraries. If you would like to use Nvidia GPU with TensorRT, please make sure the missing libraries mentioned above are installed properly.\n"
     ]
    },
    {
     "name": "stdout",
     "output_type": "stream",
     "text": [
      "WARNING:tensorflow:From /home/mclougv/.local/lib/python3.9/site-packages/tensorflow/python/autograph/pyct/static_analysis/liveness.py:83: Analyzer.lamba_check (from tensorflow.python.autograph.pyct.static_analysis.liveness) is deprecated and will be removed after 2023-09-23.\n",
      "Instructions for updating:\n",
      "Lambda fuctions will be no more assumed to be used in the statement where they are used, or at least in the same block. https://github.com/tensorflow/tensorflow/issues/56089\n"
     ]
    },
    {
     "name": "stderr",
     "output_type": "stream",
     "text": [
      "2023-11-26 00:42:23.413403: W tensorflow/compiler/xla/stream_executor/platform/default/dso_loader.cc:64] Could not load dynamic library 'libcuda.so.1'; dlerror: libcuda.so.1: cannot open shared object file: No such file or directory; LD_LIBRARY_PATH: /lmod/packages/cudnn10.2/lib:/lmod/packages/python/3.9.2/lib/python3.9:/usr/local/cuda-10.2/lib64::\n",
      "2023-11-26 00:42:23.413457: W tensorflow/compiler/xla/stream_executor/cuda/cuda_driver.cc:265] failed call to cuInit: UNKNOWN ERROR (303)\n",
      "2023-11-26 00:42:23.413503: I tensorflow/compiler/xla/stream_executor/cuda/cuda_diagnostics.cc:156] kernel driver does not appear to be running on this host (RISCTRLP1.DBRI.LOCAL): /proc/driver/nvidia/version does not exist\n"
     ]
    }
   ],
   "source": [
    "import tensorflow as tf\n",
    "from models.Resnet50 import Resnet50\n",
    "from models.SmallResnet import SmallResnet\n",
    "from DataManager import DataManager\n",
    "\n",
    "config_path = \"resnet_config.yaml\"    \n",
    "data_manager = DataManager(config_path)    \n",
    "train_dataset, test_dataset = data_manager.build_datasets()    \n",
    "\n",
    "config = data_manager.get_config()\n",
    "batch_size = config[\"batch_size\"]\n",
    "epochs = config[\"epochs\"]\n",
    "\n",
    "starting_neurons = 64\n",
    "add_rescale = not config[\"Z_standardize\"]\n",
    "#resnet_model = SmallResnet(starting_neurons, max_pixel_value=config[\"max_pixel_value\"], add_rescale= add_rescale, num_classes=1)\n",
    "resnet50_model = Resnet50(starting_neurons, max_pixel_value=config[\"max_pixel_value\"], add_rescale= add_rescale, num_classes=1)\n",
    "resnet50_model.build(input_shape=(batch_size, 232, 256, 36))"
   ]
  },
  {
   "cell_type": "code",
   "execution_count": 8,
   "metadata": {},
   "outputs": [
    {
     "name": "stdout",
     "output_type": "stream",
     "text": [
      "You must install pydot (`pip install pydot`) and install graphviz (see instructions at https://graphviz.gitlab.io/download/) for plot_model to work.\n"
     ]
    }
   ],
   "source": [
    "tf.keras.utils.plot_model(resnet50_model, to_file='images/resnet50_graph.jpg')"
   ]
  },
  {
   "cell_type": "code",
   "execution_count": 6,
   "metadata": {},
   "outputs": [
    {
     "name": "stdout",
     "output_type": "stream",
     "text": [
      "Defaulting to user installation because normal site-packages is not writeable\n",
      "Requirement already satisfied: pydot in /home/mclougv/.local/lib/python3.9/site-packages (1.4.2)\n",
      "Requirement already satisfied: pyparsing>=2.1.4 in /home/mclougv/.local/lib/python3.9/site-packages (from pydot) (3.0.9)\n",
      "\u001b[33mWARNING: You are using pip version 20.2.3; however, version 23.3.1 is available.\n",
      "You should consider upgrading via the '/lmod/packages/python/3.9.2/bin/python3.9 -m pip install --upgrade pip' command.\u001b[0m\n"
     ]
    }
   ],
   "source": [
    "!pip3 install pydot"
   ]
  },
  {
   "cell_type": "code",
   "execution_count": 7,
   "metadata": {},
   "outputs": [
    {
     "name": "stdout",
     "output_type": "stream",
     "text": [
      "You must install pydot (`pip install pydot`) and install graphviz (see instructions at https://graphviz.gitlab.io/download/) for plot_model to work.\n"
     ]
    }
   ],
   "source": [
    "tf.keras.utils.plot_model(resnet50_model)"
   ]
  },
  {
   "cell_type": "code",
   "execution_count": null,
   "metadata": {},
   "outputs": [],
   "source": []
  }
 ],
 "metadata": {
  "kernelspec": {
   "display_name": "Python 3",
   "language": "python",
   "name": "python3"
  },
  "language_info": {
   "codemirror_mode": {
    "name": "ipython",
    "version": 3
   },
   "file_extension": ".py",
   "mimetype": "text/x-python",
   "name": "python",
   "nbconvert_exporter": "python",
   "pygments_lexer": "ipython3",
   "version": "3.9.2"
  }
 },
 "nbformat": 4,
 "nbformat_minor": 2
}
